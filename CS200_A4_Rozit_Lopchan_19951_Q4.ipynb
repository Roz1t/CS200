{
  "nbformat": 4,
  "nbformat_minor": 0,
  "metadata": {
    "colab": {
      "provenance": [],
      "authorship_tag": "ABX9TyOk97Wtwn/BSu5N4hYC8dOU",
      "include_colab_link": true
    },
    "kernelspec": {
      "name": "python3",
      "display_name": "Python 3"
    },
    "language_info": {
      "name": "python"
    }
  },
  "cells": [
    {
      "cell_type": "markdown",
      "metadata": {
        "id": "view-in-github",
        "colab_type": "text"
      },
      "source": [
        "<a href=\"https://colab.research.google.com/github/Roz1t/CS200/blob/main/CS200_A4_Rozit_Lopchan_19951_Q4.ipynb\" target=\"_parent\"><img src=\"https://colab.research.google.com/assets/colab-badge.svg\" alt=\"Open In Colab\"/></a>"
      ]
    },
    {
      "cell_type": "code",
      "execution_count": 5,
      "metadata": {
        "colab": {
          "base_uri": "https://localhost:8080/"
        },
        "id": "cXDYLusc5FLT",
        "outputId": "2aed50e6-006f-4ecc-9b95-ab1c834fe82a"
      },
      "outputs": [
        {
          "output_type": "stream",
          "name": "stdout",
          "text": [
            "Enter the value of k (k > 0): 6\n",
            "For k = 6, 49 is composite.\n"
          ]
        }
      ],
      "source": [
        "def is_composite(k):\n",
        "    if k <= 0:\n",
        "        return False\n",
        "\n",
        "    n = k**2 + 2*k + 1\n",
        "    for r in range(2, n):\n",
        "        s = n // r\n",
        "        if 1 < r < n and 1 < s < n:\n",
        "            if r * s == n:\n",
        "                return True\n",
        "    return False\n",
        "\n",
        "k = int(input(\"Enter the value of k (k > 0): \"))\n",
        "\n",
        "if is_composite(k):\n",
        "    print(f\"For k = {k}, {k**2 + 2*k + 1} is composite.\")\n",
        "else:\n",
        "    print(f\"For k = {k}, {k**2 + 2*k + 1} is prime.\")\n"
      ]
    }
  ]
}