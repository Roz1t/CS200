{
  "nbformat": 4,
  "nbformat_minor": 0,
  "metadata": {
    "colab": {
      "provenance": [],
      "authorship_tag": "ABX9TyN/ir7QhA5AwZyumV3o2usH",
      "include_colab_link": true
    },
    "kernelspec": {
      "name": "python3",
      "display_name": "Python 3"
    },
    "language_info": {
      "name": "python"
    }
  },
  "cells": [
    {
      "cell_type": "markdown",
      "metadata": {
        "id": "view-in-github",
        "colab_type": "text"
      },
      "source": [
        "<a href=\"https://colab.research.google.com/github/Roz1t/CS200/blob/main/CS200_A4_Rozit_Lopchan_19951_Q3.ipynb\" target=\"_parent\"><img src=\"https://colab.research.google.com/assets/colab-badge.svg\" alt=\"Open In Colab\"/></a>"
      ]
    },
    {
      "cell_type": "code",
      "execution_count": null,
      "metadata": {
        "id": "cXDYLusc5FLT"
      },
      "outputs": [],
      "source": [
        "#Q3\n",
        "def is_even(num):\n",
        "    return num % 2 == 0\n",
        "\n",
        "def is_odd(num):\n",
        "    return num % 2 != 0\n",
        "\n",
        "def is_composite(k):\n",
        "    if k <= 0:\n",
        "        return False\n",
        "\n",
        "    n = k**2 - 2*k + 1\n",
        "    for r in range(2, n):\n",
        "        s = n // r\n",
        "        if 1 < r < n and 1 < s < n:\n",
        "            if r * s == n:\n",
        "                return True\n",
        "    return False\n",
        "\n",
        "m = int(input(\"Enter the value of m: \"))\n",
        "n = int(input(\"Enter the value of n: \"))\n",
        "\n",
        "result1 = is_even(6*m + 8*n)\n",
        "print(f\"Is 6m + 8n even? {result1}\")\n",
        "\n",
        "result2 = is_odd(10*m*n + 7)\n",
        "print(f\"Is 10mn + 7 odd? {result2}\")\n",
        "\n",
        "if m > n > 0:\n",
        "    result3 = is_composite(m**2 - n**2)\n",
        "    print(f\"If m > n > 0, is m^2-n^2 composite? {result3}\")\n",
        "else:\n",
        "    print(\"The condition m > n > 0 is not satisfied.\")\n"
      ]
    }
  ]
}